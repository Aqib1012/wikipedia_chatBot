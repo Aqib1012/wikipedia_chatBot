{
 "cells": [
  {
   "cell_type": "code",
   "execution_count": 1,
   "id": "29ee0398",
   "metadata": {},
   "outputs": [
    {
     "name": "stdout",
     "output_type": "stream",
     "text": [
      "Note: you may need to restart the kernel to use updated packages.\n"
     ]
    }
   ],
   "source": [
    "%pip install -qU langchain-community beautifulsoup4"
   ]
  },
  {
   "cell_type": "code",
   "execution_count": 35,
   "id": "11dc2bf2",
   "metadata": {},
   "outputs": [],
   "source": [
    "from langchain_community.document_loaders import WebBaseLoader\n",
    "\n"
   ]
  },
  {
   "cell_type": "code",
   "execution_count": null,
   "id": "34c143f3",
   "metadata": {},
   "outputs": [],
   "source": [
    "\n",
    "loader = WebBaseLoader(\"https://sidekick.pk/\")"
   ]
  },
  {
   "cell_type": "code",
   "execution_count": 7,
   "id": "e569e558",
   "metadata": {},
   "outputs": [],
   "source": [
    "loaderdata=loader.load()"
   ]
  },
  {
   "cell_type": "code",
   "execution_count": 15,
   "id": "d9b8076c",
   "metadata": {},
   "outputs": [
    {
     "data": {
      "text/plain": [
       "[Document(metadata={'source': 'https://sidekick.pk/', 'title': 'Sidekick - Best Business Consultancy Services in Pakistan - Business Consulting Firm in Pakistan', 'description': 'Sidekick is the best business consultancy services in Pakistan. Our expert team of accountants and tax advisors, combined with cutting-edge technology', 'language': 'en-US'}, page_content=\"   Sidekick - Best Business Consultancy Services in Pakistan - Business Consulting Firm in Pakistan      \\n         \\n   \\n\\n\\n\\n\\n\\nSkip to content info@sidekick.pk\\n\\n \\nSearch for:\\n\\n\\nSearchSearch\\n\\n\\xa0\\n\\xa0\\n \\xa0\\n\\xa0\\n \\xa0\\n \\xa0\\n\\n\\n\\nSidekickHomeWho we areServicesAccouting and FinanceBusiness SetupTax ConsultancyStaff AugmentationBlogsContact usRequest for ChatRequest for Call Back\\n\\n\\nRequest for Chat\\t\\t\\t\\n Request for Call back\\n\\n\\nSearch for:\\n\\n\\n\\n\\n HomeWho we areServicesAccouting and FinanceBusiness SetupTax ConsultancyStaff AugmentationBlogsContact usRequest for ChatRequest for Call BackHome\\nFull 1Tax Accounting and legalUnlocking Your Business's FullPotential TogetherUnlocking Your Business's Full Potential TogetherTax | Accounting | LegalBook a Free Consultancy SessionFull 1Tax Accounting and legalUnlocking Your Business's FullPotential TogetherUnlocking Your Business's Full Potential TogetherTax | Accounting | LegalBook a Free Consultancy SessionFull 1Tax Accounting and legalUnlocking Your Business's FullPotential TogetherUnlocking Your Business's Full Potential TogetherTax | Accounting | LegalBook a Free Consultancy SessionAbout UsAt Sidekick, we’re more than just consultants, we’re your dedicated partners on the journey to business success. Our expert team of accountants and tax advisors, combined with cutting-edge technology, makes compliance simple, so you can focus on growth. With a client-centric approach, cost-effectiveness, and a holistic mindset, we’re here to make your life as a business owner easier.\\n\\n\\n\\n \\nMore About Sidekick\\n\\nOur Service \\nOur Services go beyond traditional consulting. We offer a holistic view at finances so you and your business are covered.\\nAccounting & FinanceAccounting & FinanceSeamlessly manage your financial matters with our ERP-based accounting and bookkeeping services, ensuring compliance with tax regulations.View more\\nTax ConsultancyTax ConsultancyNavigate the complexities of taxation while maximizing your benefits.View more\\nBusiness SetupBusiness SetupFrom company incorporation to trademark and patent registration, we facilitate your business's legal and operational setup.View more\\nStaff AugmentationStaff AugmentationAccess highly qualified remote resources, such as bookkeepers, finance managers, virtual CFOs, and data entry operators.View moreWhy \\u200bChoose Us\\n\\n\\n \\n\\nClient at the Heart \\t\\t\\t\\t\\t\\t\\nWe put your needs and goals first, ensuring a personalized experience.\\n\\n \\n\\nCost-Effective & On-Time\\t\\t\\t\\t\\t\\t\\nOur solutions are designed to be both affordable and efficient, allowing you to invest your resources wisely.\\n\\n \\n\\nHolistic Approach\\t\\t\\t\\t\\t\\t\\nWe take care of all aspects of your business consultancy needs, leaving no stone unturned.\\nTestimonials\\nHassan S\\nAccounting and Finance ServicesThanks to Sidekick, our financial records are now immaculate. Their bookkeeping and financial consultancy services have been invaluable to our business. Highly recommended!\\n\\n\\n\\n\\n\\n\\n\\nShahzaib A\\nBusiness Setup ServicesIncorporating my company with Sidekick was a breeze. They expertly guided me through the process, making it smooth and hassle-free. They truly understand the needs of businesses in Pakistan.\\n\\n\\n\\n\\n\\n\\n\\nAyzza S\\nTax Consultancy ServicesThank you so much. My experience with Team Sidekick has been outstanding, they were thorough during the whole process and always responded to all my queries.\\n\\n\\n\\n\\n\\n\\n\\n\\nOur Team\\nAsif Saifullah KhanFounder and CEO\\n\\nView Profile                                            \\n \\n\\nMuhammad BilalManaging Director & B.D Lead\\n\\nView Profile                                            \\n \\n\\nMuhammad RafiGM Finance\\n\\nView Profile                                            \\n \\n\\nBakhtawar TanveerDigital Marketing Manager\\n\\nView Profile                                            \\n \\n\\nMustajab Ul HassanFinance Manager\\n\\nView Profile                                            \\n \\nOur \\u200bAchievements\\n\\n\\n0\\n+Total Projects Closed\\n\\n\\n0\\n+Tax Consultancy\\n\\n\\n0\\n+Accounting and Finance\\n\\n\\n0\\n+Business Setup\\n\\n\\n0\\n+Staff Augmentation\\n\\n\\n0\\n+Active Partnerships\\n\\n\\n0\\n+Active PartnershipsFrequently Asked Questions\\n\\n\\n\\n\\nWhat services can you provide to help me run my business smoothly?We offer ERP-based accounting and bookkeeping services, ensuring compliance with tax regulations, providing you with meaningful financial reports every month to guide your business decisions.\\n\\n\\n\\n\\nWhat does your monthly bookkeeping service include?Our monthly bookkeeping service includes meticulous financial record keeping, comprehensive financial reports, and expert analysis to help you understand your business’s financial health.\\n\\n\\n\\n\\nWhich ERP software do we use?We maintain your data in our comprehensive SK ERP. Our team is also experienced with popular ERPs and accounting software like QuickBooks, Sage Peachtree, Zoho Books, Xero, and Wave.\\n\\n\\n\\n\\nHow does staff augmentation work?Sidekick’s staff augmentation connects you with remote experts, enhancing your team’s capabilities. We offer qualified resources, such as remote bookkeepers, finance managers, virtual CFOs, and financial data entry operators. This flexible solution optimizes your workforce, reduces costs, and ensures specialized skills when you need them.\\n\\n\\n\\n\\nI want to register a business in Pakistan, What business structure should I choose?We will discuss your business nature and other details, such as the number of directors/partners, to recommend the most appropriate business structure.ASK US NOW!\\n\\n\\n\\nAt Sidekick, we understand the pressure on business owenrs and managers. Our goal is to make your life easier.Follow Us\\n\\n\\nAbout UsContact UsResource CenterBlogsPrivacy PolicyAccounting and FinanceBusiness SetupTax Consultancy\\nStaff Augmentation\\nTerms & Conditions\\nContact Us or Call us on Whatsapp 0300 0228 444Email Address info@sidekick.pk\\n\\n\\nOffice Location 1st Floor, Randhawa Plaza, Blue Area, IslamabadSIDEKICK © 2025 | All rights reserved\\xa0\\n\\n Scroll to top\\n    \\n\\n\\n\\n\\n\\n\\n\\n\\n\\n\\n\\n\\nAboutServicesUse CasesTestimonialsBlogsFaqsContact Us                                          \\n\\n\\n\\n\")]"
      ]
     },
     "execution_count": 15,
     "metadata": {},
     "output_type": "execute_result"
    }
   ],
   "source": [
    "loaderdata"
   ]
  },
  {
   "cell_type": "code",
   "execution_count": 36,
   "id": "13f8cadd",
   "metadata": {},
   "outputs": [],
   "source": [
    "from langchain_text_splitters import RecursiveCharacterTextSplitter\n"
   ]
  },
  {
   "cell_type": "code",
   "execution_count": null,
   "id": "995db21f",
   "metadata": {},
   "outputs": [],
   "source": []
  }
 ],
 "metadata": {
  "kernelspec": {
   "display_name": "Python 3",
   "language": "python",
   "name": "python3"
  },
  "language_info": {
   "codemirror_mode": {
    "name": "ipython",
    "version": 3
   },
   "file_extension": ".py",
   "mimetype": "text/x-python",
   "name": "python",
   "nbconvert_exporter": "python",
   "pygments_lexer": "ipython3",
   "version": "3.13.7"
  }
 },
 "nbformat": 4,
 "nbformat_minor": 5
}
