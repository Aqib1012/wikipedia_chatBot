{
 "cells": [
  {
   "cell_type": "code",
   "execution_count": 1,
   "id": "0d500468",
   "metadata": {},
   "outputs": [
    {
     "name": "stdout",
     "output_type": "stream",
     "text": [
      "Note: you may need to restart the kernel to use updated packages.\n"
     ]
    }
   ],
   "source": [
    "%pip install -qU langchain-community pypdf"
   ]
  },
  {
   "cell_type": "code",
   "execution_count": 4,
   "id": "31ac26c4",
   "metadata": {},
   "outputs": [],
   "source": [
    "from langchain_community.document_loaders import PyPDFLoader\n",
    "\n",
    "file_path = \"SaqibResume.pdf\"\n",
    "loader = PyPDFLoader(file_path)"
   ]
  },
  {
   "cell_type": "code",
   "execution_count": 5,
   "id": "42267d88",
   "metadata": {},
   "outputs": [
    {
     "data": {
      "text/plain": [
       "Document(metadata={'producer': 'Canva', 'creator': 'Canva', 'creationdate': '2025-05-16T11:17:58+00:00', 'title': 'Black White Minimalist CV Resume A4 Document', 'moddate': '2025-05-16T11:17:57+00:00', 'keywords': 'DAGnmnrQA1g,BAGjdLeB0xg,0', 'author': 'Aqib Walayat', 'source': 'SaqibResume.pdf', 'total_pages': 1, 'page': 0, 'page_label': '1'}, page_content='SAQIB\\nWALAYAT\\nOperation Theatre Technician\\nWORK EXPERIENCE\\nEDUCATION\\nSKILL \\nOT Technician\\nBS Operation Theatre Technology\\nPersonal\\nOT Technician\\nMMaroof International\\nHospital\\nMar 2022 - Mar 2024\\nBashir Institute of Health Sciences Islamabad\\n2021-present\\nIPakistan Surgical\\nCentre\\nMar 2024- Mar 2025\\nGained hands-on experience in pre-operative and post-operative patient\\ncare, surgical instrument sterilization, and assisting surgeons during\\nvarious major and minor procedures. Demonstrated strong knowledge of\\ninfection control protocols and operating room procedures. Efficiently\\ncollaborated with surgical teams, maintained OT inventory, and ensured\\nsmooth operation of equipment and environment in high-pressure\\nsituations. Proven ability to maintain patient safety and OT hygiene\\nstandards.\\nAt Pakistan Surgical Center, further enhanced expertise in surgical\\nsupport, patient preparation, and instrument handling. Played a key role in\\nensuring smooth OT operations, maintaining surgical equipment, and\\nsupporting post-operative care under high-pressure conditions.\\nManagement Skills\\nTime Management\\nNegotiation\\nCritical Thinking\\nCommunication Skills\\nLeadership\\nSurgical instrument handling and\\nsterilization\\nOperation theatre setup and maintenance\\nAssisting in general and specialized surgeries\\nInfection control and hygiene protocols\\nPre-operative and post-operative patient\\ncare\\nOT equipment operation and troubleshooting\\nStrong teamwork and communication skills\\n03149781949\\nsaqibrandhawa1122@gmail.com\\nWaheed_Abad Zia Msjid Islamabad\\nProfessional\\nOT Technician  diploma\\nPakistan School Of Technology I/10 Islamabad\\n2019-2021')"
      ]
     },
     "execution_count": 5,
     "metadata": {},
     "output_type": "execute_result"
    }
   ],
   "source": [
    "docs = loader.load()\n",
    "docs[0]"
   ]
  }
 ],
 "metadata": {
  "kernelspec": {
   "display_name": "Python 3",
   "language": "python",
   "name": "python3"
  },
  "language_info": {
   "codemirror_mode": {
    "name": "ipython",
    "version": 3
   },
   "file_extension": ".py",
   "mimetype": "text/x-python",
   "name": "python",
   "nbconvert_exporter": "python",
   "pygments_lexer": "ipython3",
   "version": "3.13.7"
  }
 },
 "nbformat": 4,
 "nbformat_minor": 5
}
